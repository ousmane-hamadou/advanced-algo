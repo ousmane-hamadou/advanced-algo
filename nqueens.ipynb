{
 "cells": [
  {
   "cell_type": "markdown",
   "metadata": {},
   "source": [
    "# N-Queens problem with hill-climbing"
   ]
  },
  {
   "cell_type": "code",
   "execution_count": 311,
   "metadata": {},
   "outputs": [],
   "source": [
    "import numpy as np"
   ]
  },
  {
   "cell_type": "markdown",
   "metadata": {},
   "source": [
    "## Modeling Solution\n",
    "\n",
    "Nous savons dès le départ qu'il y aura une reine et une seule sur chaque colonne de l'échiquier, le problème consiste donc à déterminer sur quelle ligne se trouve la reine placée sur la colonne i\n",
    "\n",
    "| \\_  | \\_  | \\_  | \\_  |\n",
    "| :-: | :-: | :-: | :-: |\n",
    "| \\_  | Q2  | \\_  | Q4  |\n",
    "| Q1  | \\_  | Q3  | \\_  |\n",
    "| \\_  | \\_  | \\_  | \\_  |\n",
    "\n",
    "une solution se reprensete comme suit pour un 4-queens:\n",
    "\n",
    "&nbsp;&nbsp;&nbsp;&nbsp;$Tab = [3, 2, 3, 2]$\n",
    "\n",
    "où:\n",
    "\n",
    "- chaque indice `i` du vecteur désigne la colonne C<sub>i<sub>\n",
    "- `Tab[i]` désigne le numéro de ligne sur laquelle placer la reine de la colonne i\n"
   ]
  },
  {
   "cell_type": "markdown",
   "metadata": {},
   "source": [
    "### Code"
   ]
  },
  {
   "cell_type": "code",
   "execution_count": 312,
   "metadata": {},
   "outputs": [],
   "source": [
    "def init_solution(n):\n",
    "    \"\"\"\n",
    "    Return a list containing initial solution generate randomly.\n",
    "    The elements are from `[1, n-1]`\n",
    "\n",
    "    # Parameter\n",
    "    n : size of solution (number of queens)\n",
    "\n",
    "    # Return\n",
    "    out : List of integers\n",
    "    \"\"\"\n",
    "\n",
    "    return np.random.randint(0, n, size=n)"
   ]
  },
  {
   "cell_type": "code",
   "execution_count": 313,
   "metadata": {},
   "outputs": [],
   "source": [
    "def nqueens_score(sol):\n",
    "    \"\"\"\n",
    "    Calculate the number of pairs of queens that are in conflict directly\n",
    "    or indirectly along the lines, the descending and ascending diagonal.\n",
    "\n",
    "    Complexity:\n",
    "        T(n) = O(n^2)\n",
    "        n : length of solution\n",
    "\n",
    "    # Parameter\n",
    "    sol : the solution that must be evaluated\n",
    "\n",
    "    # Return\n",
    "    out : number of pairs of queens that are in conflict\n",
    "    \"\"\"\n",
    "    size = len(sol)\n",
    "    num_conflicts = 0\n",
    "\n",
    "    for i in range(size):\n",
    "        for j in range(i + 1, size):\n",
    "            if sol[i] == sol[j]:\n",
    "                num_conflicts += 1\n",
    "            elif abs(sol[i] - sol[j]) == abs(i - j):\n",
    "                num_conflicts += 1\n",
    "\n",
    "    return num_conflicts"
   ]
  },
  {
   "cell_type": "code",
   "execution_count": 314,
   "metadata": {},
   "outputs": [],
   "source": [
    "def loop(n, *, epochs=3):\n",
    "    solution = init_solution(n)\n",
    "    score = nqueens_score(solution)\n",
    "\n",
    "    metrics = [score]\n",
    "\n",
    "    M = epochs\n",
    "    tmp_solution = np.zeros_like(solution)\n",
    "\n",
    "    while M > 0 and score != 0:\n",
    "        best_neighbor, best_score = solution, score\n",
    "\n",
    "        tmp_solution[:] = solution\n",
    "        for i in range(n):\n",
    "            s = solution[i]\n",
    "            for j in range(1, n):\n",
    "                tmp_solution[i] = (s + j) % n\n",
    "                v = nqueens_score(tmp_solution)\n",
    "\n",
    "                if v <= best_score:\n",
    "                    best_score = v\n",
    "                    best_neighbor[:] = tmp_solution\n",
    "\n",
    "            tmp_solution[:] = solution\n",
    "\n",
    "        if best_score == score:\n",
    "            M -= 1\n",
    "\n",
    "        if best_score < score:\n",
    "            solution[:] = best_neighbor\n",
    "            score = best_score\n",
    "            # M = epochs\n",
    "\n",
    "        metrics.append(score)\n",
    "\n",
    "    return (solution, score), metrics"
   ]
  },
  {
   "cell_type": "code",
   "execution_count": null,
   "metadata": {},
   "outputs": [],
   "source": [
    "n = 12\n",
    "result, metrics = loop(n)\n",
    "\n",
    "print(\"solution = \", result[0], \"\\nscore = \", result[1])"
   ]
  },
  {
   "cell_type": "code",
   "execution_count": null,
   "metadata": {},
   "outputs": [],
   "source": [
    "import matplotlib.pyplot as plt\n",
    "\n",
    "print(\"metrics = \", metrics)\n",
    "plt.plot(np.arange(len(metrics)), metrics, \"o\")\n",
    "\n",
    "plt.ylabel(\"score\")\n",
    "plt.show()"
   ]
  },
  {
   "cell_type": "code",
   "execution_count": 317,
   "metadata": {},
   "outputs": [],
   "source": [
    "def pretty_print_table(rows, line_between_rows=True):\n",
    "\n",
    "    # find the max length of each column\n",
    "    max_col_lens = list(\n",
    "        map(max, zip(*[(len(str(cell)) for cell in row) for row in rows]))\n",
    "    )\n",
    "\n",
    "    # print the table's top border\n",
    "    print(\"┌\" + \"┬\".join(\"─\" * (n + 2) for n in max_col_lens) + \"┐\")\n",
    "\n",
    "    rows_separator = \"├\" + \"┼\".join(\"─\" * (n + 2) for n in max_col_lens) + \"┤\"\n",
    "\n",
    "    row_fstring = \" │ \".join(\"{: <%s}\" % n for n in max_col_lens)\n",
    "\n",
    "    for i, row in enumerate(rows):\n",
    "        print(\"│\", row_fstring.format(*map(str, row)), \"│\")\n",
    "\n",
    "        if line_between_rows and i < len(rows) - 1:\n",
    "            print(rows_separator)\n",
    "\n",
    "    # print the table's bottom border\n",
    "    print(\"└\" + \"┴\".join(\"─\" * (n + 2) for n in max_col_lens) + \"┘\")"
   ]
  },
  {
   "cell_type": "code",
   "execution_count": null,
   "metadata": {},
   "outputs": [],
   "source": [
    "A = np.zeros(shape=(n, n), dtype=(str, 2))\n",
    "\n",
    "for i, j in zip(result[0], range(n)):\n",
    "    A[i, j] = f\"Q{j + 1}\"\n",
    "\n",
    "pretty_print_table(list(A))\n",
    "print(\"score = \", result[1])\n",
    "result[0]"
   ]
  }
 ],
 "metadata": {
  "kernelspec": {
   "display_name": "usr",
   "language": "python",
   "name": "python3"
  },
  "language_info": {
   "codemirror_mode": {
    "name": "ipython",
    "version": 3
   },
   "file_extension": ".py",
   "mimetype": "text/x-python",
   "name": "python",
   "nbconvert_exporter": "python",
   "pygments_lexer": "ipython3",
   "version": "3.13.1"
  }
 },
 "nbformat": 4,
 "nbformat_minor": 2
}
